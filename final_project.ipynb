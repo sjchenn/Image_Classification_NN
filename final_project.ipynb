{
 "cells": [
  {
   "cell_type": "markdown",
   "metadata": {},
   "source": [
    "# Avengers Faces Classification\n",
    "\n",
    "### Group members:\n",
    "*Chiyu Ma*,  *Sijie Chen*,  *Tengjie(TJ) Tang*,  *Ying Xin*,  *Xiaoyue(Emrys) Yan*,  *Tianhao Li*"
   ]
  },
  {
   "cell_type": "markdown",
   "metadata": {},
   "source": [
    "## Introduction\n",
    "\n"
   ]
  },
  {
   "cell_type": "markdown",
   "metadata": {},
   "source": [
    "For this project, we intended to build some image classification models for facial recognition based on the \"Avengers Faces Dataset\" on Kaggle. It is essentially a “which Avenger is your look-alike” game. We attempted to create a facial recognition model to specifically identify and tell apart five Avengers/actors: Scarlett Johansson, Robert Downey Jr., Chris Evans, Chris Hemsworth, and Mark Ruffalo. Our goal is to match a human face on a digital image against a database of Avengers' faces by pinpointing and measuring facial features from a given image. So we can identify the Avengers and also find out the Avenger-look-alike for each MSS student.\n",
    "\n",
    "We started with training the algorithm to recognize the five Avengers. Originally there were 274 samples in the training set and 60 same samples in both validation set and test set. The original test and validation sets contain same data and are included in the training set, so here we removed the validation set and removed those duplicate data from the training set. Now there are 214 samples in training set, 60 samples in testing set. Utilized machine learning methods were: convolutional neural network (CNN), Feedforward Neural Network(FNN), Random Forest, and Adaboost. We obtained accuracy rate for each model, and realized CNN and FNN are the best performing ones after comparing each model's performance and preferences. Then we visually compared traning errors for CNN and FNN in their 100 training epoches, and we performed data augmentation by blurring images to increase the robustness of our model. It is then obvious that CNN achieved the highest accuracy, exceeding those of FNN, Adaboost and Random Forest before augmentation. We obtained an accuracy of 75%.\n",
    "\n",
    "Then we put our algorithm into practice by feeding MSS student profile headshots that we scrapped from MSS websites to it and looking for each student's look-alike Avenger. We processed student headshots the same way we did with the five Avengers photos, ran the algorithm, and labeled students with their Avenger-look-alike. The detailed write-up on this part is in the \"Classmates photos\" section."
   ]
  },
  {
   "cell_type": "markdown",
   "metadata": {},
   "source": [
    "## Methods / Implementation"
   ]
  },
  {
   "cell_type": "code",
   "execution_count": 1,
   "metadata": {},
   "outputs": [
    {
     "name": "stderr",
     "output_type": "stream",
     "text": [
      "/Users/litianhao/opt/anaconda3/envs/cv/lib/python3.10/site-packages/tqdm/auto.py:22: TqdmWarning: IProgress not found. Please update jupyter and ipywidgets. See https://ipywidgets.readthedocs.io/en/stable/user_install.html\n",
      "  from .autonotebook import tqdm as notebook_tqdm\n"
     ]
    }
   ],
   "source": [
    "import os \n",
    "import shutil \n",
    "import cv2\n",
    "import numpy as np \n",
    "from tqdm import tqdm \n",
    "import torch \n",
    "import torch.nn as nn \n",
    "import torch.nn.functional as F\n",
    "import warnings\n",
    "import matplotlib.pyplot as plt\n",
    "import torch.optim as optim \n",
    "import skimage.io as io\n",
    "from skimage.transform import rotate, AffineTransform, warp\n",
    "from skimage.util import random_noise\n",
    "from skimage.filters import gaussian\n",
    "import sklearn\n",
    "from sklearn.ensemble import AdaBoostClassifier\n",
    "from sklearn.model_selection import cross_val_score\n",
    "from sklearn.model_selection import RepeatedStratifiedKFold\n",
    "from sklearn.tree import DecisionTreeClassifier\n",
    "from sklearn.model_selection import GridSearchCV, KFold\n",
    "from sklearn.ensemble import RandomForestClassifier\n",
    "from sklearn.model_selection import train_test_split, StratifiedKFold\n",
    "from sklearn.metrics import accuracy_score"
   ]
  },
  {
   "cell_type": "markdown",
   "metadata": {},
   "source": [
    "### Data Preprocessing "
   ]
  },
  {
   "cell_type": "markdown",
   "metadata": {},
   "source": [
    "In this section, we transformed the the dataset stored in our repository into the corresponding `.npy` file. For each image, we built its path based on its label and which set it belonged to. Then for each label, we read in and resize these images into same size and stored them in the corresponding `.npy` file."
   ]
  },
  {
   "cell_type": "code",
   "execution_count": 2,
   "metadata": {},
   "outputs": [],
   "source": [
    "REBUILD_DATA = True\n",
    "\n",
    "class Preprocess():\n",
    "    avengers = ['chris_evans', 'chris_hemsworth','mark_ruffalo','robert_downey_jr','scarlett_johansson']\n",
    "    Labels = {value: indx for indx, value in enumerate(avengers)}\n",
    "    data = []\n",
    "    # make the data based on set label\n",
    "    def make_data(self, mode, size = 50):\n",
    "        # assign mod and file name based on set mode\n",
    "        if mode == \"training\":\n",
    "            mod, name = 'train/', \"train_data.npy\"\n",
    "        elif mode == \"testing\":\n",
    "            mod, name  = 'test/', \"test_data.npy\"\n",
    "        else:\n",
    "            raise RuntimeError(\"mode should be chosen within training or testing\")\n",
    "        \n",
    "        # label and load the data to corresponding set\n",
    "        for lab in self.Labels:\n",
    "            label = 'images/'+ mod + lab\n",
    "            for f in tqdm(os.listdir(label)):\n",
    "                # build path\n",
    "                path = os.path.join(label, f)\n",
    "                # read in image\n",
    "                image = cv2.imread(path, cv2.IMREAD_GRAYSCALE)\n",
    "                # resize image to 50X50\n",
    "                image = cv2.resize(image, (size, size)) # all 50x50 size images\n",
    "                # add the processed data to output file\n",
    "                self.data.append([np.array(image), np.eye(5)[self.Labels[lab]]])\n",
    "        np.save(name, self.data)\n",
    "        self.data = []\n",
    "            "
   ]
  },
  {
   "cell_type": "code",
   "execution_count": 3,
   "metadata": {},
   "outputs": [
    {
     "name": "stdout",
     "output_type": "stream",
     "text": [
      "Data Preprocessing:\n",
      "Processing training data:\n"
     ]
    },
    {
     "name": "stderr",
     "output_type": "stream",
     "text": [
      "100%|██████████████████████████████████████████| 38/38 [00:00<00:00, 465.55it/s]\n",
      "100%|██████████████████████████████████████████| 41/41 [00:00<00:00, 263.26it/s]\n",
      "100%|██████████████████████████████████████████| 54/54 [00:00<00:00, 328.44it/s]\n",
      "100%|██████████████████████████████████████████| 39/39 [00:00<00:00, 493.47it/s]\n",
      "100%|██████████████████████████████████████████| 42/42 [00:00<00:00, 190.36it/s]\n",
      "/Users/litianhao/opt/anaconda3/envs/cv/lib/python3.10/site-packages/numpy/lib/npyio.py:528: VisibleDeprecationWarning: Creating an ndarray from ragged nested sequences (which is a list-or-tuple of lists-or-tuples-or ndarrays with different lengths or shapes) is deprecated. If you meant to do this, you must specify 'dtype=object' when creating the ndarray.\n",
      "  arr = np.asanyarray(arr)\n"
     ]
    },
    {
     "name": "stdout",
     "output_type": "stream",
     "text": [
      "\n",
      "Processing testing data:\n"
     ]
    },
    {
     "name": "stderr",
     "output_type": "stream",
     "text": [
      "100%|██████████████████████████████████████████| 12/12 [00:00<00:00, 171.68it/s]\n",
      "100%|██████████████████████████████████████████| 12/12 [00:00<00:00, 265.53it/s]\n",
      "100%|██████████████████████████████████████████| 12/12 [00:00<00:00, 180.07it/s]\n",
      "100%|██████████████████████████████████████████| 12/12 [00:00<00:00, 187.37it/s]\n",
      "100%|██████████████████████████████████████████| 12/12 [00:00<00:00, 112.66it/s]"
     ]
    },
    {
     "name": "stdout",
     "output_type": "stream",
     "text": [
      "Done\n"
     ]
    },
    {
     "name": "stderr",
     "output_type": "stream",
     "text": [
      "\n"
     ]
    }
   ],
   "source": [
    "# build the training set and testing set\n",
    "if REBUILD_DATA:\n",
    "    Data_preprocess = Preprocess()\n",
    "    print(\"Data Preprocessing:\")\n",
    "    \n",
    "    # process training data\n",
    "    print('Processing training data:')\n",
    "    Data_preprocess.make_data('training')\n",
    "    train = np.load(\"train_data.npy\", allow_pickle = True)\n",
    "    print()\n",
    "    \n",
    "    # process testing data\n",
    "    print('Processing testing data:')\n",
    "    Data_preprocess.make_data(\"testing\")\n",
    "    test = np.load('test_data.npy',allow_pickle = True)\n",
    "    print(\"Done\")\n",
    "    \n",
    "    # reset data process indicator\n",
    "    REBUILD_DATA = False "
   ]
  },
  {
   "cell_type": "code",
   "execution_count": 4,
   "metadata": {},
   "outputs": [
    {
     "name": "stdout",
     "output_type": "stream",
     "text": [
      "The size of training set is:  214\n",
      "The size of testing set is:  60\n"
     ]
    }
   ],
   "source": [
    "# check sets sizes\n",
    "print('The size of training set is: ',len(train))\n",
    "print('The size of testing set is: ',len(test))"
   ]
  },
  {
   "cell_type": "markdown",
   "metadata": {},
   "source": [
    "Here are 2 samples of data points."
   ]
  },
  {
   "cell_type": "code",
   "execution_count": 5,
   "metadata": {},
   "outputs": [
    {
     "data": {
      "text/plain": [
       "array([0., 1., 0., 0., 0.])"
      ]
     },
     "execution_count": 5,
     "metadata": {},
     "output_type": "execute_result"
    },
    {
     "data": {
      "image/png": "[encoded data removed]",
      "text/plain": [
       "<Figure size 432x288 with 1 Axes>"
      ]
     },
     "metadata": {
      "needs_background": "light"
     },
     "output_type": "display_data"
    }
   ],
   "source": [
    "plt.imshow(train[42][0], \n",
    "          cmap= \"gray\")\n",
    "plt.show\n",
    "train[42][1]"
   ]
  },
  {
   "cell_type": "code",
   "execution_count": 6,
   "metadata": {},
   "outputs": [
    {
     "data": {
      "text/plain": [
       "array([1., 0., 0., 0., 0.])"
      ]
     },
     "execution_count": 6,
     "metadata": {},
     "output_type": "execute_result"
    },
    {
     "data": {
      "image/png": "[encoded data removed]",
      "text/plain": [
       "<Figure size 432x288 with 1 Axes>"
      ]
     },
     "metadata": {
      "needs_background": "light"
     },
     "output_type": "display_data"
    }
   ],
   "source": [
    "plt.imshow(test[3][0], \n",
    "          cmap= \"gray\")\n",
    "plt.show\n",
    "test[3][1]"
   ]
  },
  {
   "cell_type": "markdown",
   "metadata": {},
   "source": [
    "## Constructing Different Model without Data Augmentation"
   ]
  },
  {
   "cell_type": "markdown",
   "metadata": {},
   "source": [
    "One thing to mention here is that we did not add data augmentation at the beginning, because we found that the data augmentation operations seem to have significant influence on the data. Given the influence of data augmentation, we would need more complex model to capture the features and more data to train the model. However, here we only have very limited amount of data, so even if we add more layers to the neural network model, the data augmentation would lead to poor result."
   ]
  },
  {
   "cell_type": "markdown",
   "metadata": {},
   "source": [
    "### Building CNN "
   ]
  },
  {
   "cell_type": "markdown",
   "metadata": {},
   "source": [
    "Image classification involves the extraction of features from the image to observe some patterns in the dataset. The filter used in CNN can help us extract these features, making CNN a good choice for image classification. We constructed CNN with three convolution layers with 5*5 filter windows, three max pooling layers, and three fully connected linear layers. We used relu activation function on the first two FC layers, and softmax activation function for the output given it is the most suitable activation function for mulitclass classifciation."
   ]
  },
  {
   "cell_type": "code",
   "execution_count": 39,
   "metadata": {},
   "outputs": [],
   "source": [
    "class Net(nn.Module):\n",
    "    def __init__(self):\n",
    "        super().__init__()\n",
    "        # 5x5 kernel size or windows\n",
    "        self.conv1 = nn.Conv2d(1, 32, 5)\n",
    "        self.conv2 = nn.Conv2d(32, 64, 5)\n",
    "        self.conv3 = nn.Conv2d(64, 128, 5)\n",
    "        \n",
    "        x = torch.randn(50,50).view(-1,1,50,50)\n",
    "        self._to_linear = None\n",
    "        self.convs(x)\n",
    "        self.fc1 = nn.Linear(self._to_linear,512)\n",
    "        self.fc2 = nn.Linear(512,512)\n",
    "        self.fc3 = nn.Linear(512,5)\n",
    "               \n",
    "    def convs(self,x):\n",
    "        x = F.max_pool2d(F.relu(self.conv1(x)),(2,2))\n",
    "        x = F.max_pool2d(F.relu(self.conv2(x)),(2,2))\n",
    "        x = F.max_pool2d(F.relu(self.conv3(x)),(2,2)) \n",
    "        \n",
    "        # to calculate the dimension from convolution \n",
    "        if self._to_linear is None:\n",
    "            self._to_linear = x[0].shape[0]*x[0].shape[1]*x[0].shape[2]\n",
    "        return x \n",
    "    \n",
    "    def forward(self,x):\n",
    "        x = self.convs(x)\n",
    "        x = x.view(-1, self._to_linear)\n",
    "        x = F.relu(self.fc1(x))\n",
    "        x = F.relu(self.fc2(x))\n",
    "        x = self.fc3(x)\n",
    "        return F.softmax(x, dim = 1)"
   ]
  },
  {
   "cell_type": "code",
   "execution_count": 40,
   "metadata": {},
   "outputs": [],
   "source": [
    "net = Net()"
   ]
  },
  {
   "cell_type": "code",
   "execution_count": 46,
   "metadata": {},
   "outputs": [],
   "source": [
    "optimizer = optim.Adam(net.parameters(), lr = 0.001)\n",
    "# use MSE loss\n",
    "loss_function = nn.MSELoss()\n",
    "X = torch.Tensor([i[0] for i in train]).view(-1,50, 50)# 50 as default \n",
    "# scaling the boundary\n",
    "X = X/255.0\n",
    "y = torch.Tensor([i[1] for i in train])"
   ]
  },
  {
   "cell_type": "code",
   "execution_count": 184,
   "metadata": {},
   "outputs": [
    {
     "name": "stderr",
     "output_type": "stream",
     "text": [
      "100%|████████████████████████████████████████████████████████████████████████████████| 100/100 [00:50<00:00,  1.99it/s]\n"
     ]
    }
   ],
   "source": [
    "epochs = 100\n",
    "train_loss_cnn = []\n",
    "for epoch in tqdm(range(epochs)):\n",
    "        net.zero_grad()\n",
    "        outputs = net(X.view(-1,1,50, 50))\n",
    "        loss = loss_function(outputs, y)\n",
    "        train_loss_cnn.append(loss)\n",
    "        loss.backward()\n",
    "        optimizer.step()"
   ]
  },
  {
   "cell_type": "code",
   "execution_count": 185,
   "metadata": {},
   "outputs": [],
   "source": [
    "test_X = torch.Tensor([i[0] for i in test]).view(-1,50, 50)# 50 as default \n",
    "# scaling the boundary\n",
    "test_X = test_X/255.0\n",
    "test_y = torch.Tensor([i[1] for i in test])"
   ]
  },
  {
   "cell_type": "code",
   "execution_count": 186,
   "metadata": {},
   "outputs": [
    {
     "name": "stdout",
     "output_type": "stream",
     "text": [
      "Accuracy: 75.0 %\n"
     ]
    }
   ],
   "source": [
    "correct = 0\n",
    "total = 0 \n",
    "outp = []\n",
    "with torch.no_grad():\n",
    "    for i in range(len(test_X)):\n",
    "        real = torch.argmax(test_y[i])\n",
    "        out = net(test_X[i].view(-1,1,50, 50))[0]\n",
    "        predicted = torch.argmax(out)\n",
    "        outp.append(predicted)\n",
    "        if predicted == real:\n",
    "            correct +=1 \n",
    "        total +=1 \n",
    "print(\"Accuracy:\", round(correct/total, 3)*100,'%')"
   ]
  },
  {
   "cell_type": "markdown",
   "metadata": {},
   "source": [
    "### Building Feedforward Neural Network (FNN)"
   ]
  },
  {
   "cell_type": "markdown",
   "metadata": {},
   "source": [
    "Besides CNN, we also implemented Feedforward Neural Network (FNN), which was the first and simplest type of artificial neural network devised. Although the model is much simpler than CNN with only three linear layers, its performance is not much worse than CNN. We obatined an accuracy score of $70 \\%$."
   ]
  },
  {
   "cell_type": "code",
   "execution_count": 200,
   "metadata": {},
   "outputs": [],
   "source": [
    "class fnn_model(torch.nn.Module):\n",
    "    def __init__(self, input_dim, hidden_dim, output_dim, nl_step = nn.ReLU(), seed=1234):\n",
    "        super().__init__()\n",
    "        self.l1 = torch.nn.Linear(input_dim, hidden_dim)\n",
    "        self.nl = nl_step # ReLU\n",
    "        self.l2 = torch.nn.Linear(hidden_dim, hidden_dim)\n",
    "        self.nl = nl_step\n",
    "        self.l3 = torch.nn.Linear(hidden_dim, output_dim)\n",
    "    def forward(self, X):\n",
    "        out = self.l1(X)\n",
    "        out = self.nl(out)\n",
    "        out = self.l2(out)\n",
    "        out = self.nl(out)\n",
    "        out = self.l3(out)\n",
    "        return out"
   ]
  },
  {
   "cell_type": "code",
   "execution_count": 201,
   "metadata": {},
   "outputs": [],
   "source": [
    "m = fnn_model(50*50,50,5)"
   ]
  },
  {
   "cell_type": "code",
   "execution_count": 202,
   "metadata": {},
   "outputs": [
    {
     "name": "stderr",
     "output_type": "stream",
     "text": [
      "100%|███████████████████████████████████████████████████████████████████████████████| 100/100 [00:00<00:00, 303.03it/s]"
     ]
    },
    {
     "name": "stdout",
     "output_type": "stream",
     "text": [
      "tensor(0.0359, grad_fn=<MseLossBackward0>)\n"
     ]
    },
    {
     "name": "stderr",
     "output_type": "stream",
     "text": [
      "\n"
     ]
    }
   ],
   "source": [
    "optimizer = optim.Adam(m.parameters(), lr = 0.001)\n",
    "loss_function = nn.MSELoss()\n",
    "X = torch.Tensor([i[0] for i in train]).view(-1,50*50)# 50 as default \n",
    "# scaling the boundary\n",
    "X = X/255.0\n",
    "y = torch.Tensor([i[1] for i in train])\n",
    "epochs = 100\n",
    "for epoch in tqdm(range(epochs)):\n",
    "        optimizer.zero_grad()\n",
    "        outputs = m(X.view(-1,50*50))\n",
    "        loss = loss_function(outputs, y)\n",
    "        loss.backward()\n",
    "        optimizer.step()\n",
    "print(loss)"
   ]
  },
  {
   "cell_type": "code",
   "execution_count": 205,
   "metadata": {},
   "outputs": [
    {
     "name": "stderr",
     "output_type": "stream",
     "text": [
      "100%|████████████████████████████████████████████████████████████████████████████████| 60/60 [00:00<00:00, 3334.94it/s]"
     ]
    },
    {
     "name": "stdout",
     "output_type": "stream",
     "text": [
      "Accuracy: 70.0 %\n"
     ]
    },
    {
     "name": "stderr",
     "output_type": "stream",
     "text": [
      "\n"
     ]
    }
   ],
   "source": [
    "correct = 0\n",
    "total = 0 \n",
    "with torch.no_grad():\n",
    "    for i in tqdm(range(len(test_X))):\n",
    "        real = torch.argmax(test_y[i])\n",
    "        out = m(test_X[i].view(-1,50*50))[0]\n",
    "        predicted = torch.argmax(out)\n",
    "        if predicted == real:\n",
    "            correct +=1 \n",
    "        total +=1 \n",
    "print(\"Accuracy:\", round(correct/total, 3)*100,'%')"
   ]
  },
  {
   "cell_type": "markdown",
   "metadata": {},
   "source": [
    "### Implement Random Forest"
   ]
  },
  {
   "cell_type": "markdown",
   "metadata": {},
   "source": [
    "Besides implementing neural networks for image classifications, we attempted to use ensemble methods such as random forest and adaboost. We obtained accuracy around $70\\%$ before tuning, and $73\\%$ after hyper parameter tuning done by cross validation with startified k folds, and obatined parameters: `max_depth = 29`, `max_features= sqrt`,`min_samples_leaf=2`, `n_estimator=200`.\n"
   ]
  },
  {
   "cell_type": "code",
   "execution_count": 165,
   "metadata": {},
   "outputs": [],
   "source": [
    "x_train,y_train = [train[i][0].flatten() for i in range(len(train))],[train[i][1] for i in range(len(train))]\n",
    "y_train = np.argmax(y_train,axis=1)+1"
   ]
  },
  {
   "cell_type": "code",
   "execution_count": 166,
   "metadata": {},
   "outputs": [],
   "source": [
    "x_test = [test[i][0].flatten() for i in range(len(test))]\n",
    "y_test= np.argmax([test[i][1].flatten() for i in range(len(test))],axis=1)+1"
   ]
  },
  {
   "cell_type": "code",
   "execution_count": 167,
   "metadata": {},
   "outputs": [],
   "source": [
    "clf = RandomForestClassifier()"
   ]
  },
  {
   "cell_type": "code",
   "execution_count": 168,
   "metadata": {},
   "outputs": [
    {
     "name": "stdout",
     "output_type": "stream",
     "text": [
      "Training metrics:\n",
      "              precision    recall  f1-score   support\n",
      "\n",
      "           1       0.89      0.67      0.76        12\n",
      "           2       0.80      0.67      0.73        12\n",
      "           3       0.56      0.83      0.67        12\n",
      "           4       0.78      0.58      0.67        12\n",
      "           5       0.64      0.75      0.69        12\n",
      "\n",
      "    accuracy                           0.70        60\n",
      "   macro avg       0.73      0.70      0.70        60\n",
      "weighted avg       0.73      0.70      0.70        60\n",
      "\n"
     ]
    }
   ],
   "source": [
    "# without tuning\n",
    "clf.fit(x_train,y_train)\n",
    "y_pred_test = clf.predict(x_test)\n",
    "print(\"Training metrics:\")\n",
    "print(sklearn.metrics.classification_report(y_true= y_test, y_pred= y_pred_test))"
   ]
  },
  {
   "cell_type": "code",
   "execution_count": 169,
   "metadata": {},
   "outputs": [],
   "source": [
    "# tuning RF\n",
    "parameters = {\n",
    "    'n_estimators':[180,190,200],\n",
    "    'max_depth': [25,27,29,31],\n",
    "    'min_samples_leaf': [2,3]\n",
    "}"
   ]
  },
  {
   "cell_type": "code",
   "execution_count": 170,
   "metadata": {},
   "outputs": [
    {
     "name": "stdout",
     "output_type": "stream",
     "text": [
      "Wall time: 24.5 s\n"
     ]
    }
   ],
   "source": [
    "%%time \n",
    "rf_cv = GridSearchCV(\n",
    "    RandomForestClassifier(bootstrap=True,max_features='sqrt'),\n",
    "    parameters,\n",
    "    n_jobs=-1,\n",
    "    cv = StratifiedKFold(5, shuffle=True, random_state=663),\n",
    "    scoring = \"accuracy\").fit(x_train,y_train)"
   ]
  },
  {
   "cell_type": "code",
   "execution_count": 171,
   "metadata": {},
   "outputs": [
    {
     "data": {
      "text/plain": [
       "RandomForestClassifier(max_depth=29, max_features='sqrt', min_samples_leaf=2,\n",
       "                       n_estimators=200)"
      ]
     },
     "execution_count": 171,
     "metadata": {},
     "output_type": "execute_result"
    }
   ],
   "source": [
    "rf_cv.best_estimator_"
   ]
  },
  {
   "cell_type": "code",
   "execution_count": 172,
   "metadata": {},
   "outputs": [
    {
     "data": {
      "text/plain": [
       "0.6497231450719824"
      ]
     },
     "execution_count": 172,
     "metadata": {},
     "output_type": "execute_result"
    }
   ],
   "source": [
    "rf_cv.best_score_"
   ]
  },
  {
   "cell_type": "code",
   "execution_count": 173,
   "metadata": {},
   "outputs": [
    {
     "name": "stdout",
     "output_type": "stream",
     "text": [
      "              precision    recall  f1-score   support\n",
      "\n",
      "           1       0.80      0.67      0.73        12\n",
      "           2       0.73      0.67      0.70        12\n",
      "           3       0.67      0.83      0.74        12\n",
      "           4       0.73      0.67      0.70        12\n",
      "           5       0.77      0.83      0.80        12\n",
      "\n",
      "    accuracy                           0.73        60\n",
      "   macro avg       0.74      0.73      0.73        60\n",
      "weighted avg       0.74      0.73      0.73        60\n",
      "\n"
     ]
    }
   ],
   "source": [
    "# check on test set\n",
    "rf_best = rf_cv.best_estimator_\n",
    "rf_best.fit(x_train, y_train)\n",
    "y_pred= rf_best.predict(x_test) \n",
    "print(sklearn.metrics.classification_report(y_true= y_test, y_pred= y_pred))"
   ]
  },
  {
   "cell_type": "markdown",
   "metadata": {},
   "source": [
    "### Implement AdaBoost"
   ]
  },
  {
   "cell_type": "markdown",
   "metadata": {},
   "source": [
    "We also tried Adaptive Boosting with Decision Tree as the base learner. After tuning, the accuracy score is around 50%, which is worse than the other models we tried before."
   ]
  },
  {
   "cell_type": "code",
   "execution_count": 162,
   "metadata": {},
   "outputs": [
    {
     "name": "stdout",
     "output_type": "stream",
     "text": [
      "AdaBoostClassifier(base_estimator=DecisionTreeClassifier())\n",
      "0.48117386489479513\n"
     ]
    }
   ],
   "source": [
    "# Adaboost tuning\n",
    "ada_gs = GridSearchCV(\n",
    "    AdaBoostClassifier(base_estimator = DecisionTreeClassifier()), # base learner\n",
    "    param_grid = {\"base_estimator__criterion\": [\"gini\", \"entropy\"],\n",
    "              \"n_estimators\": [10,30,50,70]\n",
    "    },\n",
    "    cv = StratifiedKFold(5, shuffle=True, random_state=1234),\n",
    "    n_jobs = -1,\n",
    "    scoring = \"accuracy\"\n",
    ").fit(\n",
    "    x_train, y_train\n",
    ")\n",
    "\n",
    "print(ada_gs.best_estimator_)\n",
    "print(ada_gs.best_score_)"
   ]
  },
  {
   "cell_type": "code",
   "execution_count": 163,
   "metadata": {},
   "outputs": [
    {
     "name": "stdout",
     "output_type": "stream",
     "text": [
      "              precision    recall  f1-score   support\n",
      "\n",
      "           1       0.50      0.58      0.54        12\n",
      "           2       0.46      0.50      0.48        12\n",
      "           3       0.46      0.50      0.48        12\n",
      "           4       0.33      0.33      0.33        12\n",
      "           5       0.62      0.42      0.50        12\n",
      "\n",
      "    accuracy                           0.47        60\n",
      "   macro avg       0.48      0.47      0.47        60\n",
      "weighted avg       0.48      0.47      0.47        60\n",
      "\n"
     ]
    }
   ],
   "source": [
    "# check on test set\n",
    "ada_best = ada_gs.best_estimator_\n",
    "ada_best.fit(x_train,y_train)\n",
    "y_pred_test = ada_best.predict(x_test)\n",
    "print(sklearn.metrics.classification_report(y_true= y_test, y_pred= y_pred_test))"
   ]
  },
  {
   "cell_type": "markdown",
   "metadata": {},
   "source": [
    "## Model Diagnostic"
   ]
  },
  {
   "cell_type": "markdown",
   "metadata": {},
   "source": [
    "Here we visualized the training loss during 100 training epoches for CNN and FNN. For the two curves, we may observe that the training loss for CNN decreases much slower than FNN. After checking the prediction accuracy on test set, we may conclude that FNN has a higher possibility of overfitting. Also, the curve for FNN has a sudden explosion at the first few epochs,  and then decrease normally. "
   ]
  },
  {
   "cell_type": "code",
   "execution_count": 30,
   "metadata": {},
   "outputs": [
    {
     "data": {
      "image/png": "[encoded data removed]",
      "text/plain": [
       "<Figure size 432x288 with 1 Axes>"
      ]
     },
     "metadata": {
      "needs_background": "light"
     },
     "output_type": "display_data"
    }
   ],
   "source": [
    "# visualization\n",
    "train_loss_cnn = [i.detach() for i in train_loss_cnn]\n",
    "train_loss_fnn = [i.detach() for i in train_loss_fnn]\n",
    "plt.plot(train_loss_cnn,label='Training Loss CNN')\n",
    "plt.plot(train_loss_fnn,label='Training Loss FNN')\n",
    "plt.legend()\n",
    "plt.title('Training Loss over 100 Epochs')\n",
    "plt.show()"
   ]
  },
  {
   "cell_type": "markdown",
   "metadata": {},
   "source": [
    "### Data Augmentation"
   ]
  },
  {
   "cell_type": "markdown",
   "metadata": {},
   "source": [
    "To increase the robustness of our model, we performed data augmentation by rotating images by 45 degree, vertically flipping images and blurring images. However, we found that after we added rotating and flipping operations, the performance was relatively worse. Besides, even if we adjusted the structure of neural network, we did not see much improvement. We found out that if we only kept blurring in our augmentation, CNN with a slightly modified structure could produce a satisfactory result. We thought the decrease in accuracy after full augmentation is due to the limited size of input data and the singularity of the image types in our testing set. If our testing set contained actor's photos from more diverse angles, we might reach higher accuracy after the full augmentation. "
   ]
  },
  {
   "cell_type": "code",
   "execution_count": 5,
   "metadata": {},
   "outputs": [
    {
     "name": "stderr",
     "output_type": "stream",
     "text": [
      "  0%|                                                   | 0/214 [00:00<?, ?it/s]/var/folders/d4/w16xnlgd49z0qdfvwmcpffwm0000gn/T/ipykernel_66080/2409646523.py:12: FutureWarning: `multichannel` is a deprecated argument name for `gaussian`. It will be removed in version 1.0. Please use `channel_axis` instead.\n",
      "  blurred = (gaussian(train[i][0],sigma=1,multichannel=True),train[i][1])\n",
      "100%|███████████████████████████████████████| 214/214 [00:00<00:00, 5878.15it/s]\n"
     ]
    }
   ],
   "source": [
    "# data augmentation \n",
    "final_train = []\n",
    "for i in tqdm(range(len(train))):\n",
    "    final_train.append(train[i])\n",
    "    #append flipped data\n",
    "    #append_content = (rotate(train[i][0],angle=45,mode='wrap'),train[i][1])\n",
    "    #final_train.append(append_content)\n",
    "    #append vertically flipped data\n",
    "    #append_content2 = (np.flipud(train[i][0]),train[i][1])\n",
    "    #final_train.append(append_content2)\n",
    "    #append blurred\n",
    "    blurred = (gaussian(train[i][0],sigma=1,multichannel=True),train[i][1])\n",
    "    final_train.append(blurred)"
   ]
  },
  {
   "cell_type": "code",
   "execution_count": 32,
   "metadata": {},
   "outputs": [
    {
     "data": {
      "text/plain": [
       "<function matplotlib.pyplot.show(close=None, block=None)>"
      ]
     },
     "execution_count": 32,
     "metadata": {},
     "output_type": "execute_result"
    },
    {
     "data": {
      "image/png": "[encoded data removed]",
      "text/plain": [
       "<Figure size 432x288 with 1 Axes>"
      ]
     },
     "metadata": {
      "needs_background": "light"
     },
     "output_type": "display_data"
    }
   ],
   "source": [
    "np.random.shuffle(final_train)\n",
    "#check blurred\n",
    "plt.imshow(final_train[1][0],\n",
    "           cmap= 'gray')\n",
    "plt.show"
   ]
  },
  {
   "cell_type": "markdown",
   "metadata": {},
   "source": [
    "### Reconstruct CNN with augmented data\n",
    "The structure of CNN with augmented data(blurring only) is slightly different from previous CNN in order to obtain a better performance. We changed the dimension of the second fully connected layer to `(512,1024)`, and the third fully connected layer to `(1024,5)`."
   ]
  },
  {
   "cell_type": "code",
   "execution_count": 187,
   "metadata": {},
   "outputs": [],
   "source": [
    "class Aug_Net(nn.Module):\n",
    "    def __init__(self):\n",
    "        super().__init__()\n",
    "        # 5x5 kernel size or windows\n",
    "        self.conv1 = nn.Conv2d(1, 32, 5)\n",
    "        self.conv2 = nn.Conv2d(32, 64, 5)\n",
    "        self.conv3 = nn.Conv2d(64, 128, 5)\n",
    "        \n",
    "        x = torch.randn(50,50).view(-1,1,50,50)\n",
    "        self._to_linear = None\n",
    "        self.convs(x)\n",
    "        self.fc1 = nn.Linear(self._to_linear,512)\n",
    "        self.fc2 = nn.Linear(512, 1024)\n",
    "        self.fc3 = nn.Linear(1024,5)\n",
    "    \n",
    "    def convs(self,x):\n",
    "        x = F.max_pool2d(F.relu(self.conv1(x)),(2,2))\n",
    "        x = F.max_pool2d(F.relu(self.conv2(x)),(2,2))\n",
    "        x = F.max_pool2d(F.relu(self.conv3(x)),(2,2))        \n",
    "        # to calculate the dimension from convolution \n",
    "        if self._to_linear is None:\n",
    "            self._to_linear = x[0].shape[0]*x[0].shape[1]*x[0].shape[2]\n",
    "        return x \n",
    "    \n",
    "    def forward(self,x):\n",
    "        x = self.convs(x)\n",
    "        x = x.view(-1, self._to_linear)\n",
    "        x = F.relu(self.fc1(x))\n",
    "        x = F.relu(self.fc2(x))\n",
    "        x = self.fc3(x)\n",
    "        return F.softmax(x, dim = 1)"
   ]
  },
  {
   "cell_type": "code",
   "execution_count": 188,
   "metadata": {},
   "outputs": [],
   "source": [
    "net = Aug_Net()\n",
    "optimizer = optim.Adam(net.parameters(), lr = 0.001)\n",
    "loss_function = nn.MSELoss()\n",
    "X = torch.Tensor([i[0] for i in final_train]).view(-1,50, 50)# 50 as default \n",
    "# scaling the boundary\n",
    "X = X/255.0\n",
    "y = torch.Tensor([i[1] for i in final_train])"
   ]
  },
  {
   "cell_type": "code",
   "execution_count": 192,
   "metadata": {},
   "outputs": [
    {
     "name": "stderr",
     "output_type": "stream",
     "text": [
      "100%|████████████████████████████████████████████████████████████████████████████████| 200/200 [03:44<00:00,  1.12s/it]\n"
     ]
    }
   ],
   "source": [
    "epochs = 200\n",
    "train_loss = []\n",
    "for epoch in tqdm(range(epochs)):\n",
    "        net.zero_grad()\n",
    "        outputs = net(X.view(-1,1,50, 50))\n",
    "        loss = loss_function(outputs, y)\n",
    "        train_loss.append(loss)\n",
    "        loss.backward()\n",
    "        optimizer.step()"
   ]
  },
  {
   "cell_type": "code",
   "execution_count": 190,
   "metadata": {},
   "outputs": [],
   "source": [
    "test_X = torch.Tensor([i[0] for i in test]).view(-1,50, 50)# 50 as default \n",
    "# scaling the boundary\n",
    "test_X = test_X/255.0\n",
    "test_y = torch.Tensor([i[1] for i in test])"
   ]
  },
  {
   "cell_type": "code",
   "execution_count": 191,
   "metadata": {},
   "outputs": [
    {
     "name": "stdout",
     "output_type": "stream",
     "text": [
      "Accuracy: 71.7 %\n"
     ]
    }
   ],
   "source": [
    "correct = 0\n",
    "total = 0 \n",
    "outp = []\n",
    "with torch.no_grad():\n",
    "    for i in range(len(test_X)):\n",
    "        real = torch.argmax(test_y[i])\n",
    "        out = net(test_X[i].view(-1,1,50, 50))[0]\n",
    "        predicted = torch.argmax(out)\n",
    "        outp.append(predicted)\n",
    "        if predicted == real:\n",
    "            correct +=1 \n",
    "        total +=1 \n",
    "#print(correct)\n",
    "print(\"Accuracy:\", round(correct/total, 3)*100,'%')"
   ]
  },
  {
   "cell_type": "code",
   "execution_count": null,
   "metadata": {},
   "outputs": [
    {
     "data": {
      "image/png": "[encoded data removed]",
      "text/plain": [
       "<Figure size 432x288 with 1 Axes>"
      ]
     },
     "metadata": {
      "needs_background": "light"
     },
     "output_type": "display_data"
    }
   ],
   "source": [
    "train_loss = [i.detach() for i in train_loss]\n",
    "plt.plot(train_loss,label='Training Loss')\n",
    "plt.legend()\n",
    "# indication of converge\n",
    "plt.title('CNN Training Loss After Augmentation over 200 Epochs')\n",
    "plt.show()"
   ]
  },
  {
   "cell_type": "markdown",
   "metadata": {},
   "source": [
    "## Classmates Headshots Classification"
   ]
  },
  {
   "cell_type": "markdown",
   "metadata": {},
   "source": [
    "In this section, we used the CNN model we fit in last section to make predictions on a new dataset. We are interested in which avenger will MSS students look alike.  \n",
    "\n",
    "We first scrapped images from the MSS students website https://stat.duke.edu/people/students/ms-students. And then we processed the data the same way we did previously for our training and test data sets. Finally, we fit the CNN model and made predictions. Each MSS student was given a label of Avenger that was predicted by the CNN model. In our Avengers data set, only one of the Avengers is female, labelled as \"scarlett_johansson,\" and the other four are all male characters. We evaluated the accuracy of classifications on gender recognition. We observed that almost all of the female students are labelled as \"scarlett_johansson,\" the only female character in our Avenger data set, meanning that our gender accuracy is pretty good with women's headshots. On the other hand, a very small number of male students were labelled as \"scarlett_johansson\",so the algorithm could be further refined for processing men's headshots. However, given the limitations in the size of our training set, we could conclude that our model is doing the correct job. Unfortunately, it may not be very exciting for female students to see which avengers they look like the most because there is only one female character, and there might be some weird feelings when any female students are labeled as a male Avenger. So, we believe that if we can get more characters for the training data set, meaning a larger dataset, our model will produce more accurate predictions and more interesting results."
   ]
  },
  {
   "cell_type": "markdown",
   "metadata": {},
   "source": [
    "### Web Image Scraping"
   ]
  },
  {
   "cell_type": "markdown",
   "metadata": {},
   "source": [
    "We used `BeautifulSoup` and `reqeust` to perform web image scraping. By using find_all, we were able to extract all the url links for image on MSS student page with class \"image_style_people_ohtot_thmbnail\". After extracting the urls, we completed the url by appending \"stat.duke.edu\" in the front. Finally, we used request.urlretrieve to download image files into the folder named classmates. \n",
    "We commented out the following two chunks becuase we only needed to download data once."
   ]
  },
  {
   "cell_type": "code",
   "execution_count": 7,
   "metadata": {},
   "outputs": [],
   "source": [
    "# # web scraping code inspired by : https://python.plainenglish.io/how-to-scrape-images-using-beautifulsoup4-in-python-e7a4ddb904b8\n",
    "# DownloadOnce=False\n",
    "# URL = \"https://stat.duke.edu/people/students/ms-students\"\n",
    "# page = requests.get(URL)\n",
    "# from bs4 import BeautifulSoup\n",
    "# soup = BeautifulSoup(page.content, 'html.parser')\n",
    "# image_tags = soup.find_all('img', class_='image-style-people-photo-thumbnail')\n",
    "# links = []\n",
    "# for image_tag in image_tags:\n",
    "#     links.append(image_tag['src'])\n",
    "# #complete url\n",
    "# links_complete = ['http://stat.duke.edu'+i for i in links]"
   ]
  },
  {
   "cell_type": "code",
   "execution_count": 8,
   "metadata": {},
   "outputs": [],
   "source": [
    "# import urllib.request\n",
    "# if DownloadOnce == True:\n",
    "#     for i in range(len(links_complete)):\n",
    "#         urllib.request.urlretrieve(links_complete[i],os.getcwd()+'/images/classmates/classmate'+str(i)+'.jpg')\n",
    "#     DownloadOnce = False"
   ]
  },
  {
   "cell_type": "code",
   "execution_count": 134,
   "metadata": {},
   "outputs": [],
   "source": [
    "# read data and data processing\n",
    "# https://stackoverflow.com/questions/30230592/loading-all-images-using-imread-from-a-given-folder\n",
    "def load_images(path,size=50):\n",
    "    images = []\n",
    "    for filename in os.listdir(path):\n",
    "        img = cv2.imread(os.path.join(path,filename),cv2.IMREAD_GRAYSCALE)\n",
    "        if img is not None:\n",
    "            img = cv2.resize(img, (size,size))\n",
    "            images.append([np.array(img)])\n",
    "    return images"
   ]
  },
  {
   "cell_type": "code",
   "execution_count": 125,
   "metadata": {},
   "outputs": [
    {
     "name": "stdout",
     "output_type": "stream",
     "text": [
      "77\n"
     ]
    }
   ],
   "source": [
    "classmate = load_images(\"images/classmates\")\n",
    "print(len(classmate)) # number of images in the classmate dataset"
   ]
  },
  {
   "cell_type": "code",
   "execution_count": 179,
   "metadata": {},
   "outputs": [
    {
     "data": {
      "image/png": "[encoded data removed]",
      "text/plain": [
       "<Figure size 432x288 with 1 Axes>"
      ]
     },
     "metadata": {
      "needs_background": "light"
     },
     "output_type": "display_data"
    }
   ],
   "source": [
    "# an example of the classmate dataset\n",
    "plt.imshow(classmate[3][0],cmap= \"gray\")\n",
    "plt.show()"
   ]
  },
  {
   "cell_type": "code",
   "execution_count": 128,
   "metadata": {},
   "outputs": [],
   "source": [
    "X_class = torch.Tensor([i for i in [classmate]]).view(-1,50, 50)# 50 as default \n",
    "X_class = X_class/255.0 # scaling "
   ]
  },
  {
   "cell_type": "code",
   "execution_count": 178,
   "metadata": {},
   "outputs": [
    {
     "data": {
      "image/png": "[encoded data removed]",
      "text/plain": [
       "<Figure size 432x288 with 1 Axes>"
      ]
     },
     "metadata": {
      "needs_background": "light"
     },
     "output_type": "display_data"
    },
    {
     "data": {
      "image/png": "[encoded data removed]",
      "text/plain": [
       "<Figure size 432x288 with 1 Axes>"
      ]
     },
     "metadata": {
      "needs_background": "light"
     },
     "output_type": "display_data"
    },
    {
     "data": {
      "image/png": "[encoded data removed]",
      "text/plain": [
       "<Figure size 432x288 with 1 Axes>"
      ]
     },
     "metadata": {
      "needs_background": "light"
     },
     "output_type": "display_data"
    },
    {
     "data": {
      "image/png": "[encoded data removed]",
      "text/plain": [
       "<Figure size 432x288 with 1 Axes>"
      ]
     },
     "metadata": {
      "needs_background": "light"
     },
     "output_type": "display_data"
    },
    {
     "data": {
      "image/png": "[encoded data removed]",
      "text/plain": [
       "<Figure size 432x288 with 1 Axes>"
      ]
     },
     "metadata": {
      "needs_background": "light"
     },
     "output_type": "display_data"
    },
    {
     "data": {
      "image/png": "[encoded data removed]",
      "text/plain": [
       "<Figure size 432x288 with 1 Axes>"
      ]
     },
     "metadata": {
      "needs_background": "light"
     },
     "output_type": "display_data"
    },
    {
     "data": {
      "image/png": "[encoded data removed]",
      "text/plain": [
       "<Figure size 432x288 with 1 Axes>"
      ]
     },
     "metadata": {
      "needs_background": "light"
     },
     "output_type": "display_data"
    },
    {
     "data": {
      "image/png": "[encoded data removed]",
      "text/plain": [
       "<Figure size 432x288 with 1 Axes>"
      ]
     },
     "metadata": {
      "needs_background": "light"
     },
     "output_type": "display_data"
    },
    {
     "data": {
      "image/png": "[encoded data removed]",
      "text/plain": [
       "<Figure size 432x288 with 1 Axes>"
      ]
     },
     "metadata": {
      "needs_background": "light"
     },
     "output_type": "display_data"
    },
    {
     "data": {
      "image/png": "[encoded data removed]",
      "text/plain": [
       "<Figure size 432x288 with 1 Axes>"
      ]
     },
     "metadata": {
      "needs_background": "light"
     },
     "output_type": "display_data"
    },
    {
     "data": {
      "image/png": "[encoded data removed]",
      "text/plain": [
       "<Figure size 432x288 with 1 Axes>"
      ]
     },
     "metadata": {
      "needs_background": "light"
     },
     "output_type": "display_data"
    }
   ],
   "source": [
    "avengers = ['chris_evans', 'chris_hemsworth','mark_ruffalo','robert_downey_jr','scarlett_johansson']\n",
    "with torch.no_grad():\n",
    "    # to save space, only plot some of the results\n",
    "    for index in range(0,len(classmate),7):\n",
    "        outputs = net(X_class[index].view(-1,50,50)) # fit model\n",
    "        predicted = np.argmax(outputs) # make prediction\n",
    "        plt.imshow(X_class[index], cmap='gray')\n",
    "        plt.title(f'Prediction: {avengers[predicted]}')\n",
    "        plt.show()"
   ]
  },
  {
   "cell_type": "markdown",
   "metadata": {},
   "source": [
    "## Discussion & Conclusions"
   ]
  },
  {
   "cell_type": "markdown",
   "metadata": {},
   "source": [
    "Given the small size of our dataset, neural networks may not produce very high accuracy on test set due to overfitting. Nevertheless, we still adopted some good practice in the context of image classification and neural network. For example, we decided to solve this problem by using CNN, whose structure and features fit this problem very well. Besides, given the relatively small amount of data and a model that is not that complex, we considered adding data augmentation such as blurring the images (we found that other operations such as ratating the image have a too significant influence), which helps increase the robustness of the model.\n",
    "\n",
    "As for future improvements, a major consideration is increasing the data input. Only by doing this can we fully take advantage of CNN and data augmentation."
   ]
  },
  {
   "cell_type": "markdown",
   "metadata": {},
   "source": [
    "## Reference"
   ]
  },
  {
   "cell_type": "markdown",
   "metadata": {},
   "source": [
    "M Yasser H.(2022).Avengers Faces Dataset.Retrieved April 23.2022 from https://www.kaggle.com/datasets/yasserh/avengers-faces-dataset"
   ]
  }
 ],
 "metadata": {
  "kernelspec": {
   "display_name": "Python 3 (ipykernel)",
   "language": "python",
   "name": "python3"
  },
  "language_info": {
   "codemirror_mode": {
    "name": "ipython",
    "version": 3
   },
   "file_extension": ".py",
   "mimetype": "text/x-python",
   "name": "python",
   "nbconvert_exporter": "python",
   "pygments_lexer": "ipython3",
   "version": "3.9.7"
  }
 },
 "nbformat": 4,
 "nbformat_minor": 4
}
